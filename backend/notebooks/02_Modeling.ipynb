{
 "cells": [
  {
   "cell_type": "markdown",
   "id": "582c6261-6b59-44bd-8400-8a0d64abe352",
   "metadata": {},
   "source": [
    "# Here we will perform to Preproccess, Encording the data and training the model building"
   ]
  },
  {
   "cell_type": "markdown",
   "id": "430ef016-c203-4bbf-b927-2de4bb30b01c",
   "metadata": {},
   "source": [
    "- **Installing Dependencies**"
   ]
  },
  {
   "cell_type": "code",
   "execution_count": 7,
   "id": "7a5950a4-9ffb-43a3-8757-019a07c42c7f",
   "metadata": {},
   "outputs": [
    {
     "name": "stdout",
     "output_type": "stream",
     "text": [
      "Requirement already satisfied: scikit-learn in c:\\users\\youca\\anaconda3\\envs\\ml\\lib\\site-packages (1.6.1)\n",
      "Requirement already satisfied: numpy>=1.19.5 in c:\\users\\youca\\anaconda3\\envs\\ml\\lib\\site-packages (from scikit-learn) (2.2.5)\n",
      "Requirement already satisfied: scipy>=1.6.0 in c:\\users\\youca\\anaconda3\\envs\\ml\\lib\\site-packages (from scikit-learn) (1.15.2)\n",
      "Requirement already satisfied: joblib>=1.2.0 in c:\\users\\youca\\anaconda3\\envs\\ml\\lib\\site-packages (from scikit-learn) (1.4.2)\n",
      "Requirement already satisfied: threadpoolctl>=3.1.0 in c:\\users\\youca\\anaconda3\\envs\\ml\\lib\\site-packages (from scikit-learn) (3.6.0)\n"
     ]
    }
   ],
   "source": [
    "! pip install scikit-learn"
   ]
  },
  {
   "cell_type": "code",
   "execution_count": null,
   "id": "dcb53fba-fd69-4de7-b84e-1896a1e1541f",
   "metadata": {},
   "outputs": [],
   "source": []
  }
 ],
 "metadata": {
  "kernelspec": {
   "display_name": "Python [conda env:base] *",
   "language": "python",
   "name": "conda-base-py"
  },
  "language_info": {
   "codemirror_mode": {
    "name": "ipython",
    "version": 3
   },
   "file_extension": ".py",
   "mimetype": "text/x-python",
   "name": "python",
   "nbconvert_exporter": "python",
   "pygments_lexer": "ipython3",
   "version": "3.12.7"
  }
 },
 "nbformat": 4,
 "nbformat_minor": 5
}
